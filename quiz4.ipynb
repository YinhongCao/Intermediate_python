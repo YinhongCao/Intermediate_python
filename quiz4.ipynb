{
 "cells": [
  {
   "cell_type": "code",
   "execution_count": 21,
   "metadata": {},
   "outputs": [
    {
     "name": "stdout",
     "output_type": "stream",
     "text": [
      "['10', '10', '10', '10', '10']\n"
     ]
    }
   ],
   "source": [
    "#1\n",
    "# Function to get temperatures from the user\n",
    "def get_temperatures():\n",
    "    temperatures = []\n",
    "    for i in range(5):\n",
    "        temp = input(f\"Enter day {i+1} temperature in Fahrenheit: \")\n",
    "        temperatures.append(temp)\n",
    "    return temperatures\n",
    "\n",
    "temperatures = get_temperatures()\n",
    "print(temperatures)\n"
   ]
  },
  {
   "cell_type": "code",
   "execution_count": 22,
   "metadata": {},
   "outputs": [
    {
     "name": "stdout",
     "output_type": "stream",
     "text": [
      "[10.0, 10.0, 10.0, 10.0, 10.0]\n"
     ]
    }
   ],
   "source": [
    "#2\n",
    "# convert a single value to a floating point value\n",
    "convert_to_float = lambda x: float(x)\n",
    "\n",
    "float_temperatures = list(map(convert_to_float, temperatures))\n",
    "\n",
    "\n",
    "print(float_temperatures)"
   ]
  },
  {
   "cell_type": "code",
   "execution_count": 23,
   "metadata": {},
   "outputs": [
    {
     "name": "stdout",
     "output_type": "stream",
     "text": [
      "[8.0, 8.0, 8.0, 8.0, 8.0]\n"
     ]
    }
   ],
   "source": [
    "# 3\n",
    "# Subtract 2 degrees\n",
    "subtract_two = lambda x: x - 2\n",
    "\n",
    "corrected_temperatures = list(map(subtract_two, float_temperatures))\n",
    "\n",
    "print(corrected_temperatures)\n"
   ]
  },
  {
   "cell_type": "code",
   "execution_count": 24,
   "metadata": {},
   "outputs": [],
   "source": [
    "# 4\n",
    "# def the formula\n",
    "def fahrenheit_to_celsius(f):\n",
    "    return (f - 32) * 5 / 9\n",
    "\n",
    "celsius_temperatures_def = list(map(fahrenheit_to_celsius, corrected_temperatures))\n"
   ]
  },
  {
   "cell_type": "code",
   "execution_count": 25,
   "metadata": {},
   "outputs": [],
   "source": [
    "# 4\n",
    "# implement the same funtion using lambda\n",
    "fahrenheit_to_celsius_lambda = lambda f: (f - 32) * 5 / 9\n",
    "\n",
    "celsius_temperatures_lambda = list(map(fahrenheit_to_celsius_lambda, corrected_temperatures))\n"
   ]
  },
  {
   "cell_type": "code",
   "execution_count": 26,
   "metadata": {},
   "outputs": [],
   "source": [
    "# 5\n",
    "# filter out temperatures below 0 degrees Celsius\n",
    "\n",
    "is_above_zero = lambda temp: temp >= 0\n",
    "\n",
    "filtered_temperatures = list(filter(is_above_zero, celsius_temperatures_def))\n"
   ]
  },
  {
   "cell_type": "code",
   "execution_count": 28,
   "metadata": {},
   "outputs": [
    {
     "name": "stdout",
     "output_type": "stream",
     "text": [
      "No temperature above 0 degree left\n"
     ]
    }
   ],
   "source": [
    "# 5\n",
    "if len(filtered_temperatures) >= 1:\n",
    "    print(filtered_temperatures)\n",
    "else:\n",
    "    print(\"No temperature above 0 degree left\")\n"
   ]
  }
 ],
 "metadata": {
  "kernelspec": {
   "display_name": "Python 3",
   "language": "python",
   "name": "python3"
  },
  "language_info": {
   "codemirror_mode": {
    "name": "ipython",
    "version": 3
   },
   "file_extension": ".py",
   "mimetype": "text/x-python",
   "name": "python",
   "nbconvert_exporter": "python",
   "pygments_lexer": "ipython3",
   "version": "3.11.5"
  }
 },
 "nbformat": 4,
 "nbformat_minor": 2
}
