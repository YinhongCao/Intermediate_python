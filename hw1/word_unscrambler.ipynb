{
 "cells": [
  {
   "cell_type": "markdown",
   "metadata": {},
   "source": [
    "Task #2: Unscramble Words"
   ]
  },
  {
   "cell_type": "code",
   "execution_count": null,
   "metadata": {},
   "outputs": [],
   "source": [
    "# 1. Read data from the words.txt and store it as a list of individual words.\n",
    "\n",
    "def word_list():\n",
    "    f = open(\"words.txt\")\n",
    "    words = f.readlines()\n",
    "    words_set = set()\n",
    "    for item in words:\n",
    "        item = item.replace('\\n','')\n",
    "        item = item.strip()\n",
    "        words_set.add(item)\n",
    "    return sorted(list(words_set),key = len)"
   ]
  },
  {
   "cell_type": "code",
   "execution_count": null,
   "metadata": {},
   "outputs": [],
   "source": [
    "# 2. Ask user for an input \n",
    "def word_input():\n",
    "    user_input = input(\"Please enter a single word: \")\n",
    "    while (len(user_input))<3 and (user_input != \"-1\"):\n",
    "        user_input = input(\"please enter a word longer than 3 characters: \")\n",
    "    if (len(user_input))>6:\n",
    "        user_input = user_input[:6]\n",
    "    return user_input\n",
    "\n",
    "  "
   ]
  },
  {
   "cell_type": "code",
   "execution_count": null,
   "metadata": {},
   "outputs": [],
   "source": [
    "#Iterative over the list of words you have read from the file to find all words that could be\n",
    "#created using the letters of the user input\n",
    "def check_words(wordList, userInput):\n",
    "    groups = [ list(), list(), list(), list() ]\n",
    "\n",
    "    for word in wordList:\n",
    "        if len(word) >= 3 and len(word) <= 6:\n",
    "            good = True\n",
    "            for character in word:\n",
    "                if character not in userInput:\n",
    "                    good = False\n",
    "            if good:\n",
    "                groups[len(word)-3].append(word)\n",
    "\n",
    "    for i in range(len(groups)):\n",
    "        print(\"printing for group:\", i+3)\n",
    "        for word in groups[i]:\n",
    "            print(word)"
   ]
  },
  {
   "cell_type": "code",
   "execution_count": null,
   "metadata": {},
   "outputs": [],
   "source": [
    "def main():\n",
    "    words = word_list()\n",
    "    user = word_input()\n",
    "    while user != \"-1\":\n",
    "        check_words(words, user)\n",
    "        user = word_input()\n",
    "\n",
    "main()"
   ]
  }
 ],
 "metadata": {
  "language_info": {
   "name": "python"
  },
  "orig_nbformat": 4
 },
 "nbformat": 4,
 "nbformat_minor": 2
}
